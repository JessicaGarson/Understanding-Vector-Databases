{
 "cells": [
  {
   "cell_type": "code",
   "execution_count": 1,
   "id": "dc1f4b2d-f44d-48be-849d-c7b4e261719d",
   "metadata": {},
   "outputs": [],
   "source": [
    "import pandas as pd\n",
    "import asyncio\n",
    "from langchain_core.documents import Document\n",
    "import openai\n",
    "import nest_asyncio\n",
    "from langchain.text_splitter import CharacterTextSplitter"
   ]
  },
  {
   "cell_type": "code",
   "execution_count": 2,
   "id": "567ff4e7-94c5-4124-87c6-d546fe6da787",
   "metadata": {},
   "outputs": [],
   "source": [
    "from langchain_elasticsearch import ElasticsearchStore\n",
    "from langchain_openai import OpenAIEmbeddings\n",
    "import elasticsearch\n",
    "import getpass\n",
    "from functools import partial\n",
    "from datasets import load_dataset"
   ]
  },
  {
   "cell_type": "code",
   "execution_count": 3,
   "id": "6105b2da-0fa9-4b98-a70a-682ad73b5497",
   "metadata": {},
   "outputs": [],
   "source": [
    "nest_asyncio.apply()"
   ]
  },
  {
   "cell_type": "code",
   "execution_count": 4,
   "id": "4609d5d8-d5dd-4937-b125-6962f740c772",
   "metadata": {},
   "outputs": [],
   "source": [
    "ds = pd.read_csv('/Users/jessgarson/Downloads/tour_data.csv')"
   ]
  },
  {
   "cell_type": "code",
   "execution_count": 5,
   "id": "8d7e7583-b35a-4792-a530-5de64af1c548",
   "metadata": {},
   "outputs": [
    {
     "data": {
      "text/html": [
       "<div>\n",
       "<style scoped>\n",
       "    .dataframe tbody tr th:only-of-type {\n",
       "        vertical-align: middle;\n",
       "    }\n",
       "\n",
       "    .dataframe tbody tr th {\n",
       "        vertical-align: top;\n",
       "    }\n",
       "\n",
       "    .dataframe thead th {\n",
       "        text-align: right;\n",
       "    }\n",
       "</style>\n",
       "<table border=\"1\" class=\"dataframe\">\n",
       "  <thead>\n",
       "    <tr style=\"text-align: right;\">\n",
       "      <th></th>\n",
       "      <th>title</th>\n",
       "      <th>date</th>\n",
       "      <th>link</th>\n",
       "      <th>text</th>\n",
       "    </tr>\n",
       "  </thead>\n",
       "  <tbody>\n",
       "    <tr>\n",
       "      <th>0</th>\n",
       "      <td>算法锐舞</td>\n",
       "      <td>5/20</td>\n",
       "      <td>https://mp.weixin.qq.com/s/3kbLFsL3-bEEc6XCd_fSsw</td>\n",
       "      <td>时间：6月1日周六，19:00-22:30\\n地点：SYSTEM系统（淮海中路1327号云海...</td>\n",
       "    </tr>\n",
       "    <tr>\n",
       "      <th>1</th>\n",
       "      <td>2024国际即兴编程大会</td>\n",
       "      <td>5/13</td>\n",
       "      <td>https://mp.weixin.qq.com/s/lFGIMV-BEyND_9zb-z3buA</td>\n",
       "      <td>2024国际即兴编程大会\\n2024年5月30日 - 2024年6月1日\\n中国上海·上海纽...</td>\n",
       "    </tr>\n",
       "    <tr>\n",
       "      <th>2</th>\n",
       "      <td>关于本周五晚上活动的Visceral Realists</td>\n",
       "      <td>5/26</td>\n",
       "      <td>https://mp.weixin.qq.com/s/mbwzNNSYbzsu-Pj8fsSFIQ</td>\n",
       "      <td>\\n佐那·赞合罗斯，本能现实主义的生命力来源之一，一名多媒体艺术家，常驻纽约的声音制造组合“...</td>\n",
       "    </tr>\n",
       "    <tr>\n",
       "      <th>3</th>\n",
       "      <td>这周末 (5.31-6.02)</td>\n",
       "      <td>5.31</td>\n",
       "      <td>https://mp.weixin.qq.com/s/6vXpcunONsfrV6vxvwuBAQ</td>\n",
       "      <td>Date 时间: 5.31 8:30PM\\nVenue 地点: Yuyintang 育音堂\\...</td>\n",
       "    </tr>\n",
       "  </tbody>\n",
       "</table>\n",
       "</div>"
      ],
      "text/plain": [
       "                         title  date  \\\n",
       "0                         算法锐舞  5/20   \n",
       "1                 2024国际即兴编程大会  5/13   \n",
       "2  关于本周五晚上活动的Visceral Realists  5/26   \n",
       "3              这周末 (5.31-6.02)  5.31   \n",
       "\n",
       "                                                link  \\\n",
       "0  https://mp.weixin.qq.com/s/3kbLFsL3-bEEc6XCd_fSsw   \n",
       "1  https://mp.weixin.qq.com/s/lFGIMV-BEyND_9zb-z3buA   \n",
       "2  https://mp.weixin.qq.com/s/mbwzNNSYbzsu-Pj8fsSFIQ   \n",
       "3  https://mp.weixin.qq.com/s/6vXpcunONsfrV6vxvwuBAQ   \n",
       "\n",
       "                                                text  \n",
       "0  时间：6月1日周六，19:00-22:30\\n地点：SYSTEM系统（淮海中路1327号云海...  \n",
       "1  2024国际即兴编程大会\\n2024年5月30日 - 2024年6月1日\\n中国上海·上海纽...  \n",
       "2  \\n佐那·赞合罗斯，本能现实主义的生命力来源之一，一名多媒体艺术家，常驻纽约的声音制造组合“...  \n",
       "3  Date 时间: 5.31 8:30PM\\nVenue 地点: Yuyintang 育音堂\\...  "
      ]
     },
     "execution_count": 5,
     "metadata": {},
     "output_type": "execute_result"
    }
   ],
   "source": [
    "ds"
   ]
  },
  {
   "cell_type": "code",
   "execution_count": 6,
   "id": "c19cced1-bcf0-4f63-ba8d-589eca4fcda6",
   "metadata": {},
   "outputs": [],
   "source": [
    "async def translate_text(text):\n",
    "    document = Document(page_content=text)\n",
    "    loop = asyncio.get_event_loop()\n",
    "    response = await loop.run_in_executor(\n",
    "        None,\n",
    "        partial(\n",
    "            openai.chat.completions.create,\n",
    "            model=\"gpt-4o\",\n",
    "            messages=[\n",
    "                {\"role\": \"system\", \"content\": \"You are a translator.\"},\n",
    "                {\n",
    "                    \"role\": \"user\",\n",
    "                    \"content\": f\"Translate the following text to English: {document.page_content}\",\n",
    "                },\n",
    "            ],\n",
    "        ),\n",
    "    )\n",
    "    translated_text = response.choices[0].message.content.strip()\n",
    "    return translated_text"
   ]
  },
  {
   "cell_type": "code",
   "execution_count": 7,
   "id": "fa3f4cce-9f05-4db5-a2ed-4dc6298c0c3a",
   "metadata": {},
   "outputs": [],
   "source": [
    "async def translate_dataframe(ds, column_name):\n",
    "    tasks_column = [translate_text(text) for text in ds[column_name]]\n",
    "    translated_texts = await asyncio.gather(*tasks_column)\n",
    "    ds[\"translated_\" + column_name] = translated_texts\n",
    "    return ds"
   ]
  },
  {
   "cell_type": "code",
   "execution_count": 8,
   "id": "dcc64c66-c5ba-4d46-9177-08f1f36737c3",
   "metadata": {},
   "outputs": [
    {
     "data": {
      "text/html": [
       "<div>\n",
       "<style scoped>\n",
       "    .dataframe tbody tr th:only-of-type {\n",
       "        vertical-align: middle;\n",
       "    }\n",
       "\n",
       "    .dataframe tbody tr th {\n",
       "        vertical-align: top;\n",
       "    }\n",
       "\n",
       "    .dataframe thead th {\n",
       "        text-align: right;\n",
       "    }\n",
       "</style>\n",
       "<table border=\"1\" class=\"dataframe\">\n",
       "  <thead>\n",
       "    <tr style=\"text-align: right;\">\n",
       "      <th></th>\n",
       "      <th>title</th>\n",
       "      <th>date</th>\n",
       "      <th>link</th>\n",
       "      <th>text</th>\n",
       "      <th>translated_text</th>\n",
       "    </tr>\n",
       "  </thead>\n",
       "  <tbody>\n",
       "    <tr>\n",
       "      <th>0</th>\n",
       "      <td>算法锐舞</td>\n",
       "      <td>5/20</td>\n",
       "      <td>https://mp.weixin.qq.com/s/3kbLFsL3-bEEc6XCd_fSsw</td>\n",
       "      <td>时间：6月1日周六，19:00-22:30\\n地点：SYSTEM系统（淮海中路1327号云海...</td>\n",
       "      <td>Time: Saturday, June 1, 19:00-22:30  \\nLocatio...</td>\n",
       "    </tr>\n",
       "    <tr>\n",
       "      <th>1</th>\n",
       "      <td>2024国际即兴编程大会</td>\n",
       "      <td>5/13</td>\n",
       "      <td>https://mp.weixin.qq.com/s/lFGIMV-BEyND_9zb-z3buA</td>\n",
       "      <td>2024国际即兴编程大会\\n2024年5月30日 - 2024年6月1日\\n中国上海·上海纽...</td>\n",
       "      <td>2024 International Conference on Live Coding  ...</td>\n",
       "    </tr>\n",
       "    <tr>\n",
       "      <th>2</th>\n",
       "      <td>关于本周五晚上活动的Visceral Realists</td>\n",
       "      <td>5/26</td>\n",
       "      <td>https://mp.weixin.qq.com/s/mbwzNNSYbzsu-Pj8fsSFIQ</td>\n",
       "      <td>\\n佐那·赞合罗斯，本能现实主义的生命力来源之一，一名多媒体艺术家，常驻纽约的声音制造组合“...</td>\n",
       "      <td>Zona Zangerose is one of the sources of vitali...</td>\n",
       "    </tr>\n",
       "    <tr>\n",
       "      <th>3</th>\n",
       "      <td>这周末 (5.31-6.02)</td>\n",
       "      <td>5.31</td>\n",
       "      <td>https://mp.weixin.qq.com/s/6vXpcunONsfrV6vxvwuBAQ</td>\n",
       "      <td>Date 时间: 5.31 8:30PM\\nVenue 地点: Yuyintang 育音堂\\...</td>\n",
       "      <td>Date: 5.31 8:30PM  \\nVenue: Yuyintang  \\nLineu...</td>\n",
       "    </tr>\n",
       "  </tbody>\n",
       "</table>\n",
       "</div>"
      ],
      "text/plain": [
       "                         title  date  \\\n",
       "0                         算法锐舞  5/20   \n",
       "1                 2024国际即兴编程大会  5/13   \n",
       "2  关于本周五晚上活动的Visceral Realists  5/26   \n",
       "3              这周末 (5.31-6.02)  5.31   \n",
       "\n",
       "                                                link  \\\n",
       "0  https://mp.weixin.qq.com/s/3kbLFsL3-bEEc6XCd_fSsw   \n",
       "1  https://mp.weixin.qq.com/s/lFGIMV-BEyND_9zb-z3buA   \n",
       "2  https://mp.weixin.qq.com/s/mbwzNNSYbzsu-Pj8fsSFIQ   \n",
       "3  https://mp.weixin.qq.com/s/6vXpcunONsfrV6vxvwuBAQ   \n",
       "\n",
       "                                                text  \\\n",
       "0  时间：6月1日周六，19:00-22:30\\n地点：SYSTEM系统（淮海中路1327号云海...   \n",
       "1  2024国际即兴编程大会\\n2024年5月30日 - 2024年6月1日\\n中国上海·上海纽...   \n",
       "2  \\n佐那·赞合罗斯，本能现实主义的生命力来源之一，一名多媒体艺术家，常驻纽约的声音制造组合“...   \n",
       "3  Date 时间: 5.31 8:30PM\\nVenue 地点: Yuyintang 育音堂\\...   \n",
       "\n",
       "                                     translated_text  \n",
       "0  Time: Saturday, June 1, 19:00-22:30  \\nLocatio...  \n",
       "1  2024 International Conference on Live Coding  ...  \n",
       "2  Zona Zangerose is one of the sources of vitali...  \n",
       "3  Date: 5.31 8:30PM  \\nVenue: Yuyintang  \\nLineu...  "
      ]
     },
     "execution_count": 8,
     "metadata": {},
     "output_type": "execute_result"
    }
   ],
   "source": [
    "loop = asyncio.get_event_loop()\n",
    "loop.run_until_complete(translate_dataframe(ds, \"text\"))"
   ]
  },
  {
   "cell_type": "code",
   "execution_count": 9,
   "id": "d6ea4160-2409-4748-b4f6-26904291ddd6",
   "metadata": {},
   "outputs": [
    {
     "name": "stdin",
     "output_type": "stream",
     "text": [
      "Host:  ········\n",
      "API Key:  ········\n"
     ]
    }
   ],
   "source": [
    "es_client = elasticsearch.Elasticsearch(\n",
    "    getpass.getpass(\"Host: \"),\n",
    "    api_key=getpass.getpass(\"API Key: \"),\n",
    ")"
   ]
  },
  {
   "cell_type": "code",
   "execution_count": 10,
   "id": "8b26e6b5-c710-46d3-a59c-8516dc9bcd00",
   "metadata": {},
   "outputs": [
    {
     "name": "stdout",
     "output_type": "stream",
     "text": [
      "Deleted existing index: vr-tour-data-upload\n",
      "Created new index: vr-tour-data-upload\n"
     ]
    }
   ],
   "source": [
    "index_name = \"vr-tour-data-upload\"\n",
    "\n",
    "if es_client.indices.exists(index=index_name):\n",
    "    es_client.indices.delete(index=index_name)\n",
    "    print(f\"Deleted existing index: {index_name}\")\n",
    "\n",
    "es_client.indices.create(index=index_name)\n",
    "print(f\"Created new index: {index_name}\")"
   ]
  },
  {
   "cell_type": "code",
   "execution_count": 11,
   "id": "5b3ba2a3-a4e9-4b7a-9f33-290b2ad3bd11",
   "metadata": {},
   "outputs": [],
   "source": [
    "embedding = OpenAIEmbeddings(model=\"text-embedding-3-large\")"
   ]
  },
  {
   "cell_type": "code",
   "execution_count": 12,
   "id": "94dd529f-5e02-420a-9aba-2459ef2f4ec6",
   "metadata": {},
   "outputs": [],
   "source": [
    "elastic_vector_search = ElasticsearchStore(\n",
    "    index_name=\"vr-tour-data-upload\",\n",
    "    es_connection=es_client,\n",
    "    embedding=embedding,\n",
    ")"
   ]
  },
  {
   "cell_type": "code",
   "execution_count": 13,
   "id": "aa295a28-cb5d-4d15-97a5-764234cc8d47",
   "metadata": {},
   "outputs": [],
   "source": [
    "translated_texts = ds[\"translated_text\"].tolist()\n",
    "combined_text = \"\\n\".join(translated_texts)\n",
    "text_splitter = CharacterTextSplitter(chunk_size=2000, chunk_overlap=50)\n",
    "docs = text_splitter.split_documents([Document(page_content=combined_text)])"
   ]
  },
  {
   "cell_type": "code",
   "execution_count": 14,
   "id": "035a4592-d59b-42a2-8faa-92e758939ac8",
   "metadata": {},
   "outputs": [
    {
     "data": {
      "text/plain": [
       "['75b3a191-7956-4990-ad33-4eec1b650944',\n",
       " 'cc17836b-d0a2-44ba-bf00-44c592dc0cb5',\n",
       " 'b694c205-529c-4da4-956e-2ff4c9762274',\n",
       " '5c506031-e733-4769-a7ee-f5e642a4e724',\n",
       " 'e50ae4af-0ece-4bb5-993f-d71b2c504738',\n",
       " 'cdc61f66-5c6d-4213-9547-4478f8e1ab60',\n",
       " '9f1f9358-0545-4118-9a00-4988eeeb4245']"
      ]
     },
     "execution_count": 14,
     "metadata": {},
     "output_type": "execute_result"
    }
   ],
   "source": [
    "elastic_vector_search.add_documents(docs)"
   ]
  }
 ],
 "metadata": {
  "kernelspec": {
   "display_name": "Python 3 (ipykernel)",
   "language": "python",
   "name": "python3"
  },
  "language_info": {
   "codemirror_mode": {
    "name": "ipython",
    "version": 3
   },
   "file_extension": ".py",
   "mimetype": "text/x-python",
   "name": "python",
   "nbconvert_exporter": "python",
   "pygments_lexer": "ipython3",
   "version": "3.12.1"
  }
 },
 "nbformat": 4,
 "nbformat_minor": 5
}
